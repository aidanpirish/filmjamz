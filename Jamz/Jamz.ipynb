{
 "cells": [
  {
   "cell_type": "markdown",
   "metadata": {},
   "source": [
    "# Film Jamz\n",
    "\n",
    "Jingyi, Aidan, Micheal, Zhimin"
   ]
  },
  {
   "cell_type": "code",
   "execution_count": 1,
   "metadata": {
    "collapsed": true
   },
   "outputs": [],
   "source": [
    "import numpy as np\n",
    "import matplotlib.pyplot as plt\n",
    "%matplotlib inline"
   ]
  },
  {
   "cell_type": "markdown",
   "metadata": {},
   "source": [
    "## Load Data\n",
    "\n",
    "Load the data from csv file. It contains 6820 records. Each record has these values:\n",
    "\n",
    "**Response Variable：**\n",
    "* Default or Not      \n",
    "\n",
    "**Predictor Variables:**\n",
    "1. company: the production company   \n",
    "2. country: country of origin                  \n",
    "3. director: the director   \n",
    "4. genre: main genre of the movie                          \n",
    "5. gross: revenue of the movie                 \n",
    "6. name: name of the movie       \n",
    "7. rating: rating of the movie              \n",
    "8. runtime: duration of the movie           \n",
    "9. score: IMDb user rating    \n",
    "10. votes: number of user votes\n",
    "\n",
    "The goal of this project is to build an analyzing modle for potential investors in movie industry to indicate which feature will most likely be the key to success for future movies."
   ]
  },
  {
   "cell_type": "code",
   "execution_count": 2,
   "metadata": {},
   "outputs": [
    {
     "data": {
      "text/html": [
       "<div>\n",
       "<style>\n",
       "    .dataframe thead tr:only-child th {\n",
       "        text-align: right;\n",
       "    }\n",
       "\n",
       "    .dataframe thead th {\n",
       "        text-align: left;\n",
       "    }\n",
       "\n",
       "    .dataframe tbody tr th {\n",
       "        vertical-align: top;\n",
       "    }\n",
       "</style>\n",
       "<table border=\"1\" class=\"dataframe\">\n",
       "  <thead>\n",
       "    <tr style=\"text-align: right;\">\n",
       "      <th></th>\n",
       "      <th>company</th>\n",
       "      <th>country</th>\n",
       "      <th>director</th>\n",
       "      <th>genre</th>\n",
       "      <th>gross</th>\n",
       "      <th>name</th>\n",
       "      <th>rating</th>\n",
       "      <th>runtime</th>\n",
       "      <th>score</th>\n",
       "      <th>star</th>\n",
       "      <th>votes</th>\n",
       "      <th>writer</th>\n",
       "    </tr>\n",
       "  </thead>\n",
       "  <tbody>\n",
       "    <tr>\n",
       "      <th>0</th>\n",
       "      <td>Columbia Pictures Corporation</td>\n",
       "      <td>USA</td>\n",
       "      <td>Rob Reiner</td>\n",
       "      <td>Adventure</td>\n",
       "      <td>52287414</td>\n",
       "      <td>Stand by Me</td>\n",
       "      <td>R</td>\n",
       "      <td>89</td>\n",
       "      <td>8.1</td>\n",
       "      <td>Wil Wheaton</td>\n",
       "      <td>299174</td>\n",
       "      <td>Stephen King</td>\n",
       "    </tr>\n",
       "    <tr>\n",
       "      <th>1</th>\n",
       "      <td>Paramount Pictures</td>\n",
       "      <td>USA</td>\n",
       "      <td>John Hughes</td>\n",
       "      <td>Comedy</td>\n",
       "      <td>70136369</td>\n",
       "      <td>Ferris Bueller's Day Off</td>\n",
       "      <td>PG-13</td>\n",
       "      <td>103</td>\n",
       "      <td>7.8</td>\n",
       "      <td>Matthew Broderick</td>\n",
       "      <td>264740</td>\n",
       "      <td>John Hughes</td>\n",
       "    </tr>\n",
       "    <tr>\n",
       "      <th>2</th>\n",
       "      <td>Paramount Pictures</td>\n",
       "      <td>USA</td>\n",
       "      <td>Tony Scott</td>\n",
       "      <td>Action</td>\n",
       "      <td>179800601</td>\n",
       "      <td>Top Gun</td>\n",
       "      <td>PG</td>\n",
       "      <td>110</td>\n",
       "      <td>6.9</td>\n",
       "      <td>Tom Cruise</td>\n",
       "      <td>236909</td>\n",
       "      <td>Jim Cash</td>\n",
       "    </tr>\n",
       "    <tr>\n",
       "      <th>3</th>\n",
       "      <td>Twentieth Century Fox Film Corporation</td>\n",
       "      <td>USA</td>\n",
       "      <td>James Cameron</td>\n",
       "      <td>Action</td>\n",
       "      <td>85160248</td>\n",
       "      <td>Aliens</td>\n",
       "      <td>R</td>\n",
       "      <td>137</td>\n",
       "      <td>8.4</td>\n",
       "      <td>Sigourney Weaver</td>\n",
       "      <td>540152</td>\n",
       "      <td>James Cameron</td>\n",
       "    </tr>\n",
       "    <tr>\n",
       "      <th>4</th>\n",
       "      <td>Walt Disney Pictures</td>\n",
       "      <td>USA</td>\n",
       "      <td>Randal Kleiser</td>\n",
       "      <td>Adventure</td>\n",
       "      <td>18564613</td>\n",
       "      <td>Flight of the Navigator</td>\n",
       "      <td>PG</td>\n",
       "      <td>90</td>\n",
       "      <td>6.9</td>\n",
       "      <td>Joey Cramer</td>\n",
       "      <td>36636</td>\n",
       "      <td>Mark H. Baker</td>\n",
       "    </tr>\n",
       "  </tbody>\n",
       "</table>\n",
       "</div>"
      ],
      "text/plain": [
       "                                  company country        director      genre  \\\n",
       "0           Columbia Pictures Corporation     USA      Rob Reiner  Adventure   \n",
       "1                      Paramount Pictures     USA     John Hughes     Comedy   \n",
       "2                      Paramount Pictures     USA      Tony Scott     Action   \n",
       "3  Twentieth Century Fox Film Corporation     USA   James Cameron     Action   \n",
       "4                    Walt Disney Pictures     USA  Randal Kleiser  Adventure   \n",
       "\n",
       "       gross                      name rating  runtime  score  \\\n",
       "0   52287414               Stand by Me      R       89    8.1   \n",
       "1   70136369  Ferris Bueller's Day Off  PG-13      103    7.8   \n",
       "2  179800601                   Top Gun     PG      110    6.9   \n",
       "3   85160248                    Aliens      R      137    8.4   \n",
       "4   18564613   Flight of the Navigator     PG       90    6.9   \n",
       "\n",
       "                star   votes         writer  \n",
       "0        Wil Wheaton  299174   Stephen King  \n",
       "1  Matthew Broderick  264740    John Hughes  \n",
       "2         Tom Cruise  236909       Jim Cash  \n",
       "3   Sigourney Weaver  540152  James Cameron  \n",
       "4        Joey Cramer   36636  Mark H. Baker  "
      ]
     },
     "execution_count": 2,
     "metadata": {},
     "output_type": "execute_result"
    }
   ],
   "source": [
    "import pandas as pd\n",
    "df=pd.read_csv('data/movies.csv')\n",
    "#print list(df.columns.values)\n",
    "#print df.info() # basic information\n",
    "#print data.describe() # basic statistics\n",
    "df.head()\n",
    "\n"
   ]
  },
  {
   "cell_type": "markdown",
   "metadata": {},
   "source": [
    "## Missing value:\n",
    "\n",
    "Replace all nan values as mean values."
   ]
  },
  {
   "cell_type": "code",
   "execution_count": 3,
   "metadata": {},
   "outputs": [
    {
     "name": "stdout",
     "output_type": "stream",
     "text": [
      "(6820,)\n",
      "(6820, 11)\n"
     ]
    },
    {
     "data": {
      "text/html": [
       "<div>\n",
       "<style>\n",
       "    .dataframe thead tr:only-child th {\n",
       "        text-align: right;\n",
       "    }\n",
       "\n",
       "    .dataframe thead th {\n",
       "        text-align: left;\n",
       "    }\n",
       "\n",
       "    .dataframe tbody tr th {\n",
       "        vertical-align: top;\n",
       "    }\n",
       "</style>\n",
       "<table border=\"1\" class=\"dataframe\">\n",
       "  <thead>\n",
       "    <tr style=\"text-align: right;\">\n",
       "      <th></th>\n",
       "      <th>company</th>\n",
       "      <th>country</th>\n",
       "      <th>director</th>\n",
       "      <th>genre</th>\n",
       "      <th>gross</th>\n",
       "      <th>name</th>\n",
       "      <th>rating</th>\n",
       "      <th>runtime</th>\n",
       "      <th>score</th>\n",
       "      <th>star</th>\n",
       "      <th>votes</th>\n",
       "      <th>writer</th>\n",
       "    </tr>\n",
       "  </thead>\n",
       "  <tbody>\n",
       "    <tr>\n",
       "      <th>0</th>\n",
       "      <td>665</td>\n",
       "      <td>54</td>\n",
       "      <td>2192</td>\n",
       "      <td>1</td>\n",
       "      <td>52287414</td>\n",
       "      <td>4661</td>\n",
       "      <td>8</td>\n",
       "      <td>89</td>\n",
       "      <td>8.1</td>\n",
       "      <td>2454</td>\n",
       "      <td>299174</td>\n",
       "      <td>3716</td>\n",
       "    </tr>\n",
       "    <tr>\n",
       "      <th>1</th>\n",
       "      <td>1680</td>\n",
       "      <td>54</td>\n",
       "      <td>1296</td>\n",
       "      <td>4</td>\n",
       "      <td>70136369</td>\n",
       "      <td>1821</td>\n",
       "      <td>7</td>\n",
       "      <td>103</td>\n",
       "      <td>7.8</td>\n",
       "      <td>1605</td>\n",
       "      <td>264740</td>\n",
       "      <td>1970</td>\n",
       "    </tr>\n",
       "    <tr>\n",
       "      <th>2</th>\n",
       "      <td>1680</td>\n",
       "      <td>54</td>\n",
       "      <td>2645</td>\n",
       "      <td>0</td>\n",
       "      <td>179800601</td>\n",
       "      <td>6203</td>\n",
       "      <td>6</td>\n",
       "      <td>110</td>\n",
       "      <td>6.9</td>\n",
       "      <td>2345</td>\n",
       "      <td>236909</td>\n",
       "      <td>1852</td>\n",
       "    </tr>\n",
       "    <tr>\n",
       "      <th>3</th>\n",
       "      <td>2062</td>\n",
       "      <td>54</td>\n",
       "      <td>1066</td>\n",
       "      <td>0</td>\n",
       "      <td>85160248</td>\n",
       "      <td>295</td>\n",
       "      <td>8</td>\n",
       "      <td>137</td>\n",
       "      <td>8.4</td>\n",
       "      <td>2192</td>\n",
       "      <td>540152</td>\n",
       "      <td>1629</td>\n",
       "    </tr>\n",
       "    <tr>\n",
       "      <th>4</th>\n",
       "      <td>2122</td>\n",
       "      <td>54</td>\n",
       "      <td>2123</td>\n",
       "      <td>1</td>\n",
       "      <td>18564613</td>\n",
       "      <td>1872</td>\n",
       "      <td>6</td>\n",
       "      <td>90</td>\n",
       "      <td>6.9</td>\n",
       "      <td>1139</td>\n",
       "      <td>36636</td>\n",
       "      <td>2549</td>\n",
       "    </tr>\n",
       "  </tbody>\n",
       "</table>\n",
       "</div>"
      ],
      "text/plain": [
       "   company  country  director  genre      gross  name  rating  runtime  score  \\\n",
       "0      665       54      2192      1   52287414  4661       8       89    8.1   \n",
       "1     1680       54      1296      4   70136369  1821       7      103    7.8   \n",
       "2     1680       54      2645      0  179800601  6203       6      110    6.9   \n",
       "3     2062       54      1066      0   85160248   295       8      137    8.4   \n",
       "4     2122       54      2123      1   18564613  1872       6       90    6.9   \n",
       "\n",
       "   star   votes  writer  \n",
       "0  2454  299174    3716  \n",
       "1  1605  264740    1970  \n",
       "2  2345  236909    1852  \n",
       "3  2192  540152    1629  \n",
       "4  1139   36636    2549  "
      ]
     },
     "execution_count": 3,
     "metadata": {},
     "output_type": "execute_result"
    }
   ],
   "source": [
    "from sklearn import preprocessing\n",
    "from sklearn import utils\n",
    "#numric the strings(replace unique string with a unique number)\n",
    "le = preprocessing.LabelEncoder()\n",
    "df['company'] = le.fit_transform(df['company'])\n",
    "df['country'] = le.fit_transform(df['country'])\n",
    "df['director'] = le.fit_transform(df['director'])\n",
    "df['name'] = le.fit_transform(df['name'])\n",
    "df['rating'] = le.fit_transform(df['rating'])\n",
    "df['star'] = le.fit_transform(df['star'])\n",
    "df['writer'] = le.fit_transform(df['writer'])\n",
    "df['genre'] = le.fit_transform(df['genre'])\n",
    "\n",
    "y=df.iloc[:,4].fillna(df.mean()).as_matrix()\n",
    "x=df.iloc[:, 0:].fillna(df.mean()).as_matrix()\n",
    "x = np.delete(x, 4, axis = 1)\n",
    "y = y.astype('int')\n",
    "\n",
    "print y.shape\n",
    "print x.shape\n",
    "\n",
    "x = preprocessing.StandardScaler().fit_transform(x)\n",
    "df.head()"
   ]
  },
  {
   "cell_type": "code",
   "execution_count": 4,
   "metadata": {},
   "outputs": [
    {
     "name": "stdout",
     "output_type": "stream",
     "text": [
<<<<<<< HEAD
      "regressif_rate for RandomForestRegressor : 1.143695 \n",
      "[ 0.02811235  0.01967499  0.03517509  0.03622876  0.03974397  0.11755431\n",
      "  0.04651656  0.05223342  0.03315381  0.56196297  0.02964378]\n"
=======
      "regressif_rate for RandomForestRegressor : 0.982405 \n",
      "[ 0.03038298  0.02031564  0.03445357  0.03176694  0.03835195  0.11893842\n",
      "  0.04698784  0.04710196  0.03282313  0.56992399  0.0289536 ]\n"
>>>>>>> origin/master
     ]
    }
   ],
   "source": [
    "#use Random Forest Regressor as the algrithm\n",
    "from sklearn.ensemble import RandomForestRegressor\n",
    "# Logistic Classification\n",
    "regressify = RandomForestRegressor() # You can adjust some paraments here.\n",
    "regressify.fit(x,y)\n",
    "\n",
    "y_pred = regressify.predict(x)\n",
    "regressif_rate = np.mean(y_pred.ravel() == y.ravel()) * 100\n",
    "print(\"regressif_rate for %s : %f \" % ('RandomForestRegressor', regressif_rate))\n",
    "print regressify.feature_importances_\n"
   ]
  },
  {
   "cell_type": "code",
   "execution_count": 5,
   "metadata": {},
   "outputs": [
    {
     "data": {
<<<<<<< HEAD
      "image/png": "iVBORw0KGgoAAAANSUhEUgAAAYUAAAEWCAYAAACJ0YulAAAABHNCSVQICAgIfAhkiAAAAAlwSFlz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\n",
      "text/plain": [
       "<matplotlib.figure.Figure at 0x10fbf5d90>"
      ]
     },
     "metadata": {},
     "output_type": "display_data"
    }
   ],
   "source": [
    "from scipy.stats import probplot\n",
    "def qq_plot(x):\n",
    "    probplot(x, dist='norm', plot=plt)\n",
    "x=df['gross']\n",
    "qq_plot(x)"
   ]
  },
  {
   "cell_type": "code",
   "execution_count": 6,
   "metadata": {
    "collapsed": true
   },
   "outputs": [],
   "source": [
    "from scipy.stats.kde import gaussian_kde\n",
    "def kde_plot(x):   \n",
    "    kde = gaussian_kde(x)\n",
    "    positions = np.linspace(x.min(), x.max())\n",
    "    smoothed = kde(positions)\n",
    "    plt.plot(positions, smoothed)\n",
    "    \n",
    "def kde_values(x):   \n",
    "    kde = gaussian_kde(x)\n",
    "    positions = np.linspace(x.min(), x.max())\n",
    "    smoothed = kde(positions)\n",
    "    return positions, smoothed"
   ]
  },
  {
   "cell_type": "code",
   "execution_count": 7,
   "metadata": {},
   "outputs": [
    {
     "data": {
      "image/png": "iVBORw0KGgoAAAANSUhEUgAAAX4AAAEVCAYAAADn6Y5lAAAABHNCSVQICAgIfAhkiAAAAAlwSFlz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\n",
      "text/plain": [
       "<matplotlib.figure.Figure at 0x119161c50>"
      ]
     },
     "metadata": {},
     "output_type": "display_data"
    }
   ],
   "source": [
    "dis=df['gross']\n",
    "dis=dis.dropna()\n",
    "kde_plot(dis)\n",
    "plt.title(\"Distribution of all Gross data\")\n",
    "plt.show()"
   ]
  },
  {
   "cell_type": "code",
   "execution_count": 8,
   "metadata": {},
   "outputs": [
    {
     "name": "stdout",
     "output_type": "stream",
     "text": [
      "33497828\n"
     ]
    }
   ],
   "source": [
    "averagegross = 0\n",
    "count = 0\n",
    "for i in df['gross']:\n",
    "    averagegross += i\n",
    "    count += 1\n",
    "averagegross = averagegross/count\n",
    "print averagegross"
   ]
  },
  {
   "cell_type": "code",
   "execution_count": 9,
   "metadata": {},
   "outputs": [
    {
     "name": "stdout",
     "output_type": "stream",
     "text": [
      "291948708.33 6024.4\n"
     ]
    }
   ],
   "source": [
    "print x.quantile(0.99), x.quantile(0.01)"
   ]
  },
  {
   "cell_type": "code",
   "execution_count": 10,
   "metadata": {},
   "outputs": [
    {
     "data": {
      "text/plain": [
       "<function matplotlib.pyplot.show>"
      ]
     },
     "execution_count": 10,
     "metadata": {},
     "output_type": "execute_result"
    },
    {
     "data": {
      "image/png": "iVBORw0KGgoAAAANSUhEUgAAAXoAAAEVCAYAAADuAi4fAAAABHNCSVQICAgIfAhkiAAAAAlwSFlz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\nKdGLiKQ5JXoRkTT3/wGlHnGpPp/76gAAAABJRU5ErkJggg==\n",
      "text/plain": [
       "<matplotlib.figure.Figure at 0x11ef6bf10>"
      ]
     },
     "metadata": {},
     "output_type": "display_data"
    }
   ],
   "source": [
    "kde_plot(x[x>291948708.33])\n",
    "plt.title(\"Distribution of gross data which is more than 291948708.33\")\n",
    "plt.show"
   ]
  },
  {
   "cell_type": "code",
   "execution_count": 11,
   "metadata": {},
   "outputs": [
    {
     "data": {
      "image/png": "iVBORw0KGgoAAAANSUhEUgAAAoAAAAHwCAYAAAA2B95/AAAABHNCSVQICAgIfAhkiAAAAAlwSFlz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\n",
      "text/plain": [
       "<matplotlib.figure.Figure at 0x11efaddd0>"
=======
      "image/png": "iVBORw0KGgoAAAANSUhEUgAAAoAAAAHwCAYAAAA2B95/AAAABHNCSVQICAgIfAhkiAAAAAlwSFlz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\n",
      "text/plain": [
       "<matplotlib.figure.Figure at 0x11ccab050>"
>>>>>>> origin/master
      ]
     },
     "metadata": {},
     "output_type": "display_data"
    }
   ],
   "source": [
    "#importance of feature\n",
    "features=np.array([ \"company\",\n",
    "                    \"country\",\n",
    "                    \"director\",\n",
    "                    \"genre\",\n",
    "                    \n",
    "                    \"name\",\n",
    "                    \"rating\",\n",
    "                    \"runtime\",\n",
    "                    \"score\",\n",
    "                    \"star\",\n",
    "                    \"votes\",\n",
    "                    \"writer\"\n",
    "                    ])\n",
    "\n",
    "new = [i * 10000 for i in regressify.feature_importances_]\n",
    "\n",
    "#print new\n",
    "ind=sorted(range(len(new)),reverse=False,key=lambda k: new[k])\n",
    "features=features[ind]\n",
    "\n",
    "new = sorted(new,reverse=False)\n",
    "ind=np.array(range(11))\n",
    "#print ind\n",
    "plt.rcParams['figure.figsize'] = (9,7)\n",
    "plt.barh(bottom=ind,height=0.5,width=new,color='r')\n",
    "plt.yticks(ind+0.25,features)\n",
    "plt.xlabel('Weights')\n",
    "plt.ylabel('Features')\n",
    "plt.title('Feature Importances')\n",
    "#plt.subplots_adjust(left=0.2)\n",
    "plt.tight_layout()\n",
    "#plt.savefig('feature_importances.png', format='png', dpi=300)\n",
    "plt.show()"
   ]
  },
  {
   "cell_type": "code",
<<<<<<< HEAD
   "execution_count": 12,
=======
   "execution_count": 6,
>>>>>>> origin/master
   "metadata": {},
   "outputs": [
    {
     "data": {
      "text/plain": [
<<<<<<< HEAD
       "<matplotlib.axes._subplots.AxesSubplot at 0x11f107c50>"
      ]
     },
     "execution_count": 12,
=======
       "<matplotlib.axes._subplots.AxesSubplot at 0x1206830d0>"
      ]
     },
     "execution_count": 6,
>>>>>>> origin/master
     "metadata": {},
     "output_type": "execute_result"
    },
    {
     "data": {
      "image/png": "iVBORw0KGgoAAAANSUhEUgAAAk0AAAIHCAYAAACCOWhSAAAABHNCSVQICAgIfAhkiAAAAAlwSFlz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\nhBBCcvAXCPblBnHHMyAAAAAASUVORK5CYII=\n",
      "text/plain": [
<<<<<<< HEAD
       "<matplotlib.figure.Figure at 0x11f107490>"
=======
       "<matplotlib.figure.Figure at 0x12060a890>"
>>>>>>> origin/master
      ]
     },
     "metadata": {},
     "output_type": "display_data"
    }
   ],
   "source": [
    "# A diagonal correlation matrix using seaborn\n",
    "import seaborn as sns\n",
    "import matplotlib.pyplot as plt\n",
    "\n",
    "sns.set(style=\"white\")\n",
    "\n",
    "# Generate a large random dataset\n",
    "#rs = np.random.RandomState(33)\n",
    "#d = pd.DataFrame(data=rs.normal(size=(100, 26)),\n",
    "#                 columns=list(ascii_letters[26:]))\n",
    "\n",
    "# Compute the correlation matrix\n",
    "corr = df.corr()\n",
    "\n",
    "# Generate a mask for the upper triangle\n",
    "mask = np.zeros_like(corr, dtype=np.bool)\n",
    "mask[np.triu_indices_from(mask)] = True\n",
    "\n",
    "# Set up the matplotlib figure\n",
    "f, ax = plt.subplots(figsize=(11, 9))\n",
    "\n",
    "# Generate a custom diverging colormap\n",
    "cmap = sns.diverging_palette(220, 10, as_cmap=True)\n",
    "\n",
    "# Draw the heatmap with the mask and correct aspect ratio\n",
    "sns.heatmap(corr, mask=mask, cmap=cmap, vmax=.3, center=0,\n",
    "            square=True, linewidths=.5, cbar_kws={\"shrink\": .5})"
   ]
  },
  {
   "cell_type": "code",
<<<<<<< HEAD
   "execution_count": null,
   "metadata": {},
   "outputs": [],
   "source": []
  },
  {
   "cell_type": "code",
   "execution_count": 13,
   "metadata": {},
   "outputs": [
    {
     "name": "stdout",
     "output_type": "stream",
     "text": [
      "Index([u'company', u'country', u'director', u'genre', u'gross', u'name',\n",
      "       u'rating', u'runtime', u'score', u'star', u'votes', u'writer'],\n",
      "      dtype='object')\n",
      "High five! You successfully sent some data to your account on plotly. View your plot in your browser at https://plot.ly/~zjy0955/0 or inside your plot.ly account where it is named 'pandas-box-plot'\n"
=======
   "execution_count": 7,
   "metadata": {},
   "outputs": [
    {
     "ename": "NameError",
     "evalue": "name 'ColumnDataSource' is not defined",
     "output_type": "error",
     "traceback": [
      "\u001b[0;31m---------------------------------------------------------------------------\u001b[0m",
      "\u001b[0;31mNameError\u001b[0m                                 Traceback (most recent call last)",
      "\u001b[0;32m<ipython-input-7-0adaa5fa54f2>\u001b[0m in \u001b[0;36m<module>\u001b[0;34m()\u001b[0m\n\u001b[1;32m      2\u001b[0m \u001b[0;34m\u001b[0m\u001b[0m\n\u001b[1;32m      3\u001b[0m \u001b[0;34m\u001b[0m\u001b[0m\n\u001b[0;32m----> 4\u001b[0;31m \u001b[0mds\u001b[0m \u001b[0;34m=\u001b[0m \u001b[0mColumnDataSource\u001b[0m\u001b[0;34m(\u001b[0m\u001b[0mdf\u001b[0m\u001b[0;34m)\u001b[0m\u001b[0;34m\u001b[0m\u001b[0m\n\u001b[0m\u001b[1;32m      5\u001b[0m \u001b[0mp\u001b[0m \u001b[0;34m=\u001b[0m \u001b[0mfigure\u001b[0m\u001b[0;34m(\u001b[0m\u001b[0mwidth\u001b[0m \u001b[0;34m=\u001b[0m \u001b[0;36m750\u001b[0m\u001b[0;34m,\u001b[0m \u001b[0mheight\u001b[0m \u001b[0;34m=\u001b[0m \u001b[0;36m750\u001b[0m\u001b[0;34m,\u001b[0m \u001b[0mx_axis_type\u001b[0m \u001b[0;34m=\u001b[0m \u001b[0;34m'linear'\u001b[0m\u001b[0;34m)\u001b[0m\u001b[0;34m\u001b[0m\u001b[0m\n\u001b[1;32m      6\u001b[0m \u001b[0mp\u001b[0m\u001b[0;34m.\u001b[0m\u001b[0mline\u001b[0m\u001b[0;34m(\u001b[0m\u001b[0msource\u001b[0m\u001b[0;34m=\u001b[0m\u001b[0mds\u001b[0m\u001b[0;34m,\u001b[0m \u001b[0mx\u001b[0m\u001b[0;34m=\u001b[0m\u001b[0;34m'gross'\u001b[0m\u001b[0;34m,\u001b[0m \u001b[0my\u001b[0m\u001b[0;34m=\u001b[0m\u001b[0;34m'votes'\u001b[0m\u001b[0;34m)\u001b[0m\u001b[0;34m\u001b[0m\u001b[0m\n",
      "\u001b[0;31mNameError\u001b[0m: name 'ColumnDataSource' is not defined"
     ]
    }
   ],
   "source": [
    "from bokeh.charts import BoxPlot, output_file, show\n",
    "\n",
    "\n",
    "ds = ColumnDataSource(df)\n",
    "p = figure(width = 750, height = 750, x_axis_type = 'linear')\n",
    "p.line(source=ds, x='gross', y='votes')\n",
    "show(p)"
   ]
  },
  {
   "cell_type": "code",
   "execution_count": 8,
   "metadata": {},
   "outputs": [
    {
     "ename": "ImportError",
     "evalue": "No module named plotly",
     "output_type": "error",
     "traceback": [
      "\u001b[0;31m---------------------------------------------------------------------------\u001b[0m",
      "\u001b[0;31mImportError\u001b[0m                               Traceback (most recent call last)",
      "\u001b[0;32m<ipython-input-8-d26cc9950b06>\u001b[0m in \u001b[0;36m<module>\u001b[0;34m()\u001b[0m\n\u001b[1;32m      1\u001b[0m \u001b[0;32mimport\u001b[0m \u001b[0mstring\u001b[0m\u001b[0;34m\u001b[0m\u001b[0m\n\u001b[0;32m----> 2\u001b[0;31m \u001b[0;32mimport\u001b[0m \u001b[0mplotly\u001b[0m\u001b[0;34m\u001b[0m\u001b[0m\n\u001b[0m\u001b[1;32m      3\u001b[0m \u001b[0;32mimport\u001b[0m \u001b[0mplotly\u001b[0m\u001b[0;34m.\u001b[0m\u001b[0mplotly\u001b[0m \u001b[0;32mas\u001b[0m \u001b[0mpy\u001b[0m\u001b[0;34m\u001b[0m\u001b[0m\n\u001b[1;32m      4\u001b[0m \u001b[0;32mimport\u001b[0m \u001b[0mplotly\u001b[0m\u001b[0;34m.\u001b[0m\u001b[0mgraph_objs\u001b[0m \u001b[0;32mas\u001b[0m \u001b[0mgo\u001b[0m\u001b[0;34m\u001b[0m\u001b[0m\n\u001b[1;32m      5\u001b[0m \u001b[0mplotly\u001b[0m\u001b[0;34m.\u001b[0m\u001b[0mtools\u001b[0m\u001b[0;34m.\u001b[0m\u001b[0mset_credentials_file\u001b[0m\u001b[0;34m(\u001b[0m\u001b[0musername\u001b[0m\u001b[0;34m=\u001b[0m\u001b[0;34m'zjy0955'\u001b[0m\u001b[0;34m,\u001b[0m \u001b[0mapi_key\u001b[0m\u001b[0;34m=\u001b[0m\u001b[0;34m'0NuYXfVAZFO4oArxAX7g'\u001b[0m\u001b[0;34m)\u001b[0m\u001b[0;34m\u001b[0m\u001b[0m\n",
      "\u001b[0;31mImportError\u001b[0m: No module named plotly"
>>>>>>> origin/master
     ]
    }
   ],
   "source": [
    "import string\n",
    "import plotly\n",
    "import plotly.plotly as py\n",
    "import plotly.graph_objs as go\n",
    "plotly.tools.set_credentials_file(username='zjy0955', api_key='0NuYXfVAZFO4oArxAX7g')\n",
    "N = 1\n",
    "y_vals = {}\n",
    "for letter in list(string.ascii_uppercase):\n",
    "     y_vals[letter] = np.random.randn(N)+(3*np.random.randn())\n",
    "        \n",
    "\n",
    "\n",
    "data = []\n",
    "print df.columns\n",
    "for col in df.columns:\n",
    "    if(col != 'gross'):\n",
    "        data.append(  go.Box( y=df[col], name=col, showlegend=False ) )\n",
    "\n",
    "data.append( go.Scatter( x = df.columns, y = df.mean(), mode='lines', name='mean' ) )\n",
    "\n",
    "# IPython notebook\n",
    "# py.iplot(data, filename='pandas-box-plot')\n",
    "\n",
    "url = py.plot(data, filename='pandas-box-plot')"
   ]
  },
  {
   "cell_type": "code",
<<<<<<< HEAD
   "execution_count": 14,
=======
   "execution_count": 9,
>>>>>>> origin/master
   "metadata": {},
   "outputs": [
    {
     "name": "stdout",
     "output_type": "stream",
     "text": [
      "(6820,)\n",
      "(6820, 11)\n",
      "Fitting 2 folds for each of 3 candidates, totalling 6 fits\n"
     ]
    },
    {
     "name": "stderr",
     "output_type": "stream",
     "text": [
<<<<<<< HEAD
      "[Parallel(n_jobs=1)]: Done   6 out of   6 | elapsed:    4.3s finished\n"
=======
      "[Parallel(n_jobs=1)]: Done   6 out of   6 | elapsed:    4.0s finished\n"
>>>>>>> origin/master
     ]
    },
    {
     "name": "stdout",
     "output_type": "stream",
     "text": [
<<<<<<< HEAD
      "{'criterion': 'mse'}\n",
      "0.89008075347\n",
      "Fitting 2 folds for each of 4 candidates, totalling 8 fits\n"
=======
      "{'criterion': 'friedman_mse'}\n",
      "0.885724288525\n",
      "Fitting 2 folds for each of 3 candidates, totalling 6 fits\n"
>>>>>>> origin/master
     ]
    },
    {
     "name": "stderr",
     "output_type": "stream",
     "text": [
<<<<<<< HEAD
      "[Parallel(n_jobs=1)]: Done   8 out of   8 | elapsed:    2.8s finished\n"
=======
      "[Parallel(n_jobs=1)]: Done   6 out of   6 | elapsed:   21.8s finished\n"
>>>>>>> origin/master
     ]
    },
    {
     "name": "stdout",
     "output_type": "stream",
     "text": [
<<<<<<< HEAD
      "{'n_estimators': 20, 'max_depth': 3}\n",
      "0.0429633046836\n",
=======
      "{'criterion': 'mse'}\n",
      "-0.0743912943951\n",
>>>>>>> origin/master
      "Fitting 2 folds for each of 4 candidates, totalling 8 fits\n"
     ]
    },
    {
     "name": "stderr",
     "output_type": "stream",
     "text": [
<<<<<<< HEAD
      "[Parallel(n_jobs=1)]: Done   8 out of   8 | elapsed:    1.7s finished\n"
=======
      "[Parallel(n_jobs=1)]: Done   8 out of   8 | elapsed:    1.6s finished\n"
>>>>>>> origin/master
     ]
    },
    {
     "name": "stdout",
     "output_type": "stream",
     "text": [
      "{'n_estimators': 50, 'max_depth': 2}\n",
      "0.0371092002324\n",
      "Fitting 2 folds for each of 6 candidates, totalling 12 fits\n"
     ]
    },
    {
     "name": "stderr",
     "output_type": "stream",
     "text": [
<<<<<<< HEAD
      "[Parallel(n_jobs=1)]: Done  12 out of  12 | elapsed:    6.4s finished\n"
=======
      "[Parallel(n_jobs=1)]: Done  12 out of  12 | elapsed:    7.2s finished\n"
>>>>>>> origin/master
     ]
    },
    {
     "name": "stdout",
     "output_type": "stream",
     "text": [
      "{'weights': 'uniform', 'algorithm': 'ball_tree'}\n",
      "0.155206988368\n",
      "Fitting 2 folds for each of 6 candidates, totalling 12 fits\n"
     ]
    },
    {
     "name": "stderr",
     "output_type": "stream",
     "text": [
<<<<<<< HEAD
      "[Parallel(n_jobs=1)]: Done  12 out of  12 | elapsed:    1.9s finished\n"
=======
      "[Parallel(n_jobs=1)]: Done  12 out of  12 | elapsed:    1.7s finished\n"
>>>>>>> origin/master
     ]
    },
    {
     "name": "stdout",
     "output_type": "stream",
     "text": [
<<<<<<< HEAD
      "{'n_estimators': 10, 'learning_rate': 0.5}\n",
      "0.0433811535712\n"
=======
      "{'n_estimators': 10, 'learning_rate': 1.0}\n",
      "0.0393951610298\n"
>>>>>>> origin/master
     ]
    }
   ],
   "source": [
    "#5 algorithms\n",
    "y=df.iloc[:,0].fillna(df.mean()).as_matrix()\n",
    "x=df.iloc[:,1:].fillna(df.mean()).as_matrix()\n",
    "print y.shape\n",
    "print x.shape\n",
    "\n",
    "from sklearn import preprocessing\n",
    "x = preprocessing.StandardScaler().fit_transform(x)\n",
    "\n",
    "from sklearn.model_selection import GridSearchCV\n",
    "\n",
    "from sklearn.tree import DecisionTreeRegressor\n",
    "model = DecisionTreeRegressor()\n",
    "tuned_parameters = {'criterion':[\"mse\",\"friedman_mse\", \"mae\"]}\n",
    "model = GridSearchCV(model,tuned_parameters,cv=2,verbose=1)\n",
    "model.fit(x,y)\n",
    "print model.best_params_\n",
    "print abs(model.best_score_)\n",
    "\n",
    "from sklearn.ensemble import RandomForestRegressor\n",
    "model = RandomForestRegressor()\n",
    "#tuned_parameters = {'n_estimators':[100,200], 'max_depth':[None, 300]}\n",
    "tuned_parameters = {'criterion':[\"mse\",\"friedman_mse\", \"mae\"]}\n",
    "model = GridSearchCV(model,tuned_parameters,cv=2,verbose=1)\n",
    "model.fit(x,y)\n",
    "print model.best_params_\n",
    "print model.best_score_ \n",
    "\n",
    "from sklearn.ensemble import GradientBoostingRegressor\n",
    "model = GradientBoostingRegressor() \n",
    "tuned_parameters = {'n_estimators':[100,50], 'max_depth':[2, 3]}\n",
    "model.fit(x,y)\n",
    "model = GridSearchCV(model,tuned_parameters,cv=2,verbose=1)\n",
    "model.fit(x,y)\n",
    "print model.best_params_\n",
    "print model.best_score_ \n",
    "\n",
    "from sklearn.neighbors import KNeighborsRegressor\n",
    "model = KNeighborsRegressor() \n",
    "tuned_parameters = {'weights':['uniform', 'distance'], 'algorithm':['ball_tree', 'kd_tree', 'brute']}\n",
    "model.fit(x,y)\n",
    "model = GridSearchCV(model,tuned_parameters,cv=2,verbose=1)\n",
    "model.fit(x,y)\n",
    "print model.best_params_\n",
    "print abs(model.best_score_)\n",
    "\n",
    "from sklearn.ensemble import AdaBoostRegressor\n",
    "model = AdaBoostRegressor() \n",
    "tuned_parameters = {'n_estimators':[10,50,100], 'learning_rate':[0.5,1.0]}\n",
    "model.fit(x,y)\n",
    "model = GridSearchCV(model,tuned_parameters,cv=2,verbose=1)\n",
    "model.fit(x,y)\n",
    "print model.best_params_\n",
    "print abs(model.best_score_)\n",
    "\n"
   ]
  },
  {
   "cell_type": "code",
<<<<<<< HEAD
   "execution_count": 15,
=======
   "execution_count": 10,
>>>>>>> origin/master
   "metadata": {},
   "outputs": [
    {
     "name": "stdout",
     "output_type": "stream",
     "text": [
      "Fitting 5 folds for each of 3 candidates, totalling 15 fits\n"
     ]
    },
    {
     "name": "stderr",
     "output_type": "stream",
     "text": [
<<<<<<< HEAD
      "[Parallel(n_jobs=1)]: Done  15 out of  15 | elapsed:   25.5s finished\n"
=======
      "[Parallel(n_jobs=1)]: Done  15 out of  15 | elapsed:   28.9s finished\n"
>>>>>>> origin/master
     ]
    },
    {
     "name": "stdout",
     "output_type": "stream",
     "text": [
<<<<<<< HEAD
      "{'criterion': 'friedman_mse'}\n",
      "-0.883042362421\n",
=======
      "{'criterion': 'mse'}\n",
      "-0.888188605993\n",
>>>>>>> origin/master
      "Fitting 5 folds for each of 4 candidates, totalling 20 fits\n"
     ]
    },
    {
     "name": "stderr",
     "output_type": "stream",
     "text": [
<<<<<<< HEAD
      "[Parallel(n_jobs=1)]: Done  20 out of  20 | elapsed:    9.6s finished\n"
=======
      "[Parallel(n_jobs=1)]: Done  20 out of  20 | elapsed:    9.4s finished\n"
>>>>>>> origin/master
     ]
    },
    {
     "name": "stdout",
     "output_type": "stream",
     "text": [
<<<<<<< HEAD
      "{'n_estimators': 10, 'max_depth': 3}\n",
      "0.0510176667949\n",
=======
      "{'n_estimators': 20, 'max_depth': 3}\n",
      "0.0508679884143\n",
>>>>>>> origin/master
      "Fitting 5 folds for each of 4 candidates, totalling 20 fits\n"
     ]
    },
    {
     "name": "stderr",
     "output_type": "stream",
     "text": [
<<<<<<< HEAD
      "[Parallel(n_jobs=1)]: Done  20 out of  20 | elapsed:    6.6s finished\n"
=======
      "[Parallel(n_jobs=1)]: Done  20 out of  20 | elapsed:    7.4s finished\n"
>>>>>>> origin/master
     ]
    },
    {
     "name": "stdout",
     "output_type": "stream",
     "text": [
      "{'n_estimators': 50, 'max_depth': 2}\n",
<<<<<<< HEAD
      "0.0524000161601\n",
=======
      "0.0523984114066\n",
>>>>>>> origin/master
      "Fitting 5 folds for each of 6 candidates, totalling 30 fits\n"
     ]
    },
    {
     "name": "stderr",
     "output_type": "stream",
     "text": [
<<<<<<< HEAD
      "[Parallel(n_jobs=1)]: Done  30 out of  30 | elapsed:   27.5s finished\n"
=======
      "[Parallel(n_jobs=1)]: Done  30 out of  30 | elapsed:   31.5s finished\n"
>>>>>>> origin/master
     ]
    },
    {
     "name": "stdout",
     "output_type": "stream",
     "text": [
      "{'weights': 'distance', 'algorithm': 'ball_tree'}\n",
      "-0.139150282987\n",
<<<<<<< HEAD
      "Fitting 5 folds for each of 6 candidates, totalling 30 fits\n",
      "{'n_estimators': 10, 'learning_rate': 0.5}\n",
      "0.0463487731635\n"
=======
      "Fitting 5 folds for each of 6 candidates, totalling 30 fits\n"
>>>>>>> origin/master
     ]
    },
    {
     "name": "stderr",
     "output_type": "stream",
     "text": [
<<<<<<< HEAD
      "[Parallel(n_jobs=1)]: Done  30 out of  30 | elapsed:    6.6s finished\n"
=======
      "[Parallel(n_jobs=1)]: Done  30 out of  30 | elapsed:    8.2s finished\n"
     ]
    },
    {
     "name": "stdout",
     "output_type": "stream",
     "text": [
      "{'n_estimators': 10, 'learning_rate': 1.0}\n",
      "0.048777314454\n"
>>>>>>> origin/master
     ]
    }
   ],
   "source": [
    "#Grid Search\n",
    "from sklearn.model_selection import GridSearchCV\n",
    "from sklearn.tree import DecisionTreeRegressor\n",
    "from sklearn.ensemble import RandomForestRegressor\n",
    "from sklearn.ensemble import RandomForestClassifier\n",
    "from sklearn.ensemble import GradientBoostingRegressor\n",
    "from sklearn.neighbors import KNeighborsRegressor\n",
    "from sklearn.ensemble import AdaBoostRegressor\n",
    "\n",
    "models = [DecisionTreeRegressor(), \n",
    "          RandomForestRegressor(), \n",
    "          GradientBoostingRegressor(),\n",
    "          KNeighborsRegressor(),\n",
    "          AdaBoostRegressor()\n",
    "          ]\n",
    "tuned_parameters = [{'criterion':[\"mse\",\"friedman_mse\", \"mae\"]},  # parameters for decision tree\n",
    "                    {'n_estimators':[10,20], 'max_depth':[None, 3]}, # parameters for random forest\n",
    "                   {'n_estimators':[100,50], 'max_depth':[2, 3]}, # parameters for gradient boosting\n",
    "                    {'weights':['uniform', 'distance'], 'algorithm':['ball_tree', 'kd_tree', 'brute']},\n",
    "                   {'n_estimators':[10,50,100], 'learning_rate':[0.5,1.0]}]\n",
    "\n",
    "# Higher score means a better model\n",
    "for model, tuned_parameter in zip(models, tuned_parameters):\n",
    "    regressify = GridSearchCV(model,tuned_parameter,cv=5,verbose=1)\n",
    "    regressify.fit(x,y)\n",
    "    print regressify.best_params_\n",
    "    print regressify.best_score_"
   ]
  },
  {
   "cell_type": "code",
<<<<<<< HEAD
   "execution_count": 16,
=======
   "execution_count": 14,
>>>>>>> origin/master
   "metadata": {},
   "outputs": [
    {
     "name": "stdout",
     "output_type": "stream",
     "text": [
<<<<<<< HEAD
      "0.817069914308\n"
=======
      "0.942221297031\n"
>>>>>>> origin/master
     ]
    }
   ],
   "source": [
    "#r2 score\n",
    "from sklearn.metrics import r2_score\n",
    "\n",
    "#lb = preprocessing.LabelBinarizer()\n",
    "#lb.fit(yhat)\n",
<<<<<<< HEAD
    "#classify = GradientBoostingRegressor(n_estimators = 100, max_depth = 3)\n",
    "classify = RandomForestRegressor(criterion = 'mse')\n",
    "#classify = DecisionTreeRegressor(criterion = 'friedman_mse')\n",
    "#classify = AdaBoostRegressor(n_estimators = 100, learning_rate = 1.0)\n",
=======
    "\n",
    "classify = RandomForestClassifier()\n",
>>>>>>> origin/master
    "classify.fit(x,y)\n",
    "yhat=classify.predict(x)\n",
    "#print y\n",
    "#print yhat\n",
    "print r2_score(y,yhat) \n",
    "yroc = y\n",
    "#make the target to binary \n",
    "average = 0\n",
    "total = 0\n",
    "for i in range(len(yroc)):\n",
    "    total += yroc[i]\n",
    "average = total/len(yroc)\n",
    "#print average\n",
    "\n",
    "for i in range(len(yroc)):\n",
    "    if(yroc[i] >= average):\n",
    "        yroc[i] = 1\n",
    "    elif(yroc[i] < average):\n",
    "        yroc[i] = 0\n",
    "   \n",
    "#print y"
   ]
  },
  {
   "cell_type": "code",
<<<<<<< HEAD
   "execution_count": 17,
=======
   "execution_count": 15,
>>>>>>> origin/master
   "metadata": {},
   "outputs": [
    {
     "name": "stderr",
     "output_type": "stream",
     "text": [
      "/Users/aidanirish/anaconda/lib/python2.7/site-packages/sklearn/metrics/ranking.py:534: UndefinedMetricWarning: No negative samples in y_true, false positive value should be meaningless\n",
      "  UndefinedMetricWarning)\n"
     ]
    },
    {
     "data": {
<<<<<<< HEAD
      "image/png": "iVBORw0KGgoAAAANSUhEUgAAAfYAAAFlCAYAAAAZGcpRAAAABHNCSVQICAgIfAhkiAAAAAlwSFlz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\nYRdCCCFMiBR2IYQQwoT8P5FIyOLY4f2PAAAAAElFTkSuQmCC\n",
      "text/plain": [
       "<matplotlib.figure.Figure at 0x11f4836d0>"
=======
      "image/png": "iVBORw0KGgoAAAANSUhEUgAAAi4AAAG2CAYAAABYlw1sAAAABHNCSVQICAgIfAhkiAAAAAlwSFlz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\nEEII0Wj8H7R7JCJn6nHxAAAAAElFTkSuQmCC\n",
      "text/plain": [
       "<matplotlib.figure.Figure at 0x11a9de410>"
>>>>>>> origin/master
      ]
     },
     "metadata": {},
     "output_type": "display_data"
    }
   ],
   "source": [
    "#ROC Area\n",
    "from sklearn.metrics import roc_curve, auc\n",
    "fpr, tpr, thresholds = roc_curve(yroc, yhat)\n",
    "roc_auc = auc(fpr, tpr)\n",
    "lw = 2\n",
    "plt.figure()\n",
    "plt.plot(fpr, tpr, color='darkorange', lw=1, label='ROC curve (area = %0.2f)' % roc_auc)\n",
    "plt.plot([0, 1], [0, 1], color='navy', lw=lw, linestyle='--')\n",
    "plt.xlim([0.0, 1.0])\n",
    "plt.ylim([0.0, 1.05])\n",
    "plt.xlabel('False Positive Rate')\n",
    "plt.ylabel('True Positive Rate')\n",
    "plt.title('Receiver operating characteristic')\n",
    "plt.legend(loc=\"lower right\")\n",
    "plt.show()\n"
   ]
  },
  {
   "cell_type": "code",
   "execution_count": null,
   "metadata": {
    "collapsed": true
   },
   "outputs": [],
   "source": []
  },
  {
   "cell_type": "code",
   "execution_count": null,
   "metadata": {
    "collapsed": true
   },
   "outputs": [],
   "source": []
  }
 ],
 "metadata": {
  "anaconda-cloud": {},
  "kernelspec": {
   "display_name": "Python 2",
   "language": "python",
   "name": "python2"
  },
  "language_info": {
   "codemirror_mode": {
    "name": "ipython",
    "version": 2
   },
   "file_extension": ".py",
   "mimetype": "text/x-python",
   "name": "python",
   "nbconvert_exporter": "python",
   "pygments_lexer": "ipython2",
   "version": "2.7.13"
  }
 },
 "nbformat": 4,
 "nbformat_minor": 1
}
