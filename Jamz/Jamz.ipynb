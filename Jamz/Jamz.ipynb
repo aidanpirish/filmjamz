{
 "cells": [
  {
   "cell_type": "markdown",
   "metadata": {},
   "source": [
    "# Film Jamz\n",
    "\n",
    "Jingyi, Aidan, Micheal, Zhimin"
   ]
  },
  {
   "cell_type": "code",
   "execution_count": 1,
   "metadata": {
    "collapsed": true
   },
   "outputs": [],
   "source": [
    "import numpy as np\n",
    "import matplotlib.pyplot as plt\n",
    "%matplotlib inline"
   ]
  },
  {
   "cell_type": "markdown",
   "metadata": {},
   "source": [
    "## Load Data\n",
    "\n",
    "Load the data from csv file. It contains 6820 records. Each record has these values:\n",
    "\n",
    "**Response Variable：**\n",
    "* Default or Not      \n",
    "\n",
    "**Predictor Variables:**\n",
    "1. company: the production company   \n",
    "2. country: country of origin                  \n",
    "3. director: the director   \n",
    "4. genre: main genre of the movie                          \n",
    "5. gross: revenue of the movie                 \n",
    "6. name: name of the movie       \n",
    "7. rating: rating of the movie              \n",
    "8. runtime: duration of the movie           \n",
    "9. score: IMDb user rating    \n",
    "10. votes: number of user votes\n",
    "\n",
    "The goal of this project is to build an analyzing modle for potential investors in movie industry to indicate which feature will most likely be the key to success for future movies."
   ]
  },
  {
   "cell_type": "code",
   "execution_count": 2,
   "metadata": {},
   "outputs": [
    {
     "data": {
      "text/html": [
       "<div>\n",
       "<style>\n",
       "    .dataframe thead tr:only-child th {\n",
       "        text-align: right;\n",
       "    }\n",
       "\n",
       "    .dataframe thead th {\n",
       "        text-align: left;\n",
       "    }\n",
       "\n",
       "    .dataframe tbody tr th {\n",
       "        vertical-align: top;\n",
       "    }\n",
       "</style>\n",
       "<table border=\"1\" class=\"dataframe\">\n",
       "  <thead>\n",
       "    <tr style=\"text-align: right;\">\n",
       "      <th></th>\n",
       "      <th>company</th>\n",
       "      <th>country</th>\n",
       "      <th>director</th>\n",
       "      <th>genre</th>\n",
       "      <th>gross</th>\n",
       "      <th>name</th>\n",
       "      <th>rating</th>\n",
       "      <th>runtime</th>\n",
       "      <th>score</th>\n",
       "      <th>star</th>\n",
       "      <th>votes</th>\n",
       "      <th>writer</th>\n",
       "    </tr>\n",
       "  </thead>\n",
       "  <tbody>\n",
       "    <tr>\n",
       "      <th>0</th>\n",
       "      <td>Columbia Pictures Corporation</td>\n",
       "      <td>USA</td>\n",
       "      <td>Rob Reiner</td>\n",
       "      <td>Adventure</td>\n",
       "      <td>52287414</td>\n",
       "      <td>Stand by Me</td>\n",
       "      <td>R</td>\n",
       "      <td>89</td>\n",
       "      <td>8.1</td>\n",
       "      <td>Wil Wheaton</td>\n",
       "      <td>299174</td>\n",
       "      <td>Stephen King</td>\n",
       "    </tr>\n",
       "    <tr>\n",
       "      <th>1</th>\n",
       "      <td>Paramount Pictures</td>\n",
       "      <td>USA</td>\n",
       "      <td>John Hughes</td>\n",
       "      <td>Comedy</td>\n",
       "      <td>70136369</td>\n",
       "      <td>Ferris Bueller's Day Off</td>\n",
       "      <td>PG-13</td>\n",
       "      <td>103</td>\n",
       "      <td>7.8</td>\n",
       "      <td>Matthew Broderick</td>\n",
       "      <td>264740</td>\n",
       "      <td>John Hughes</td>\n",
       "    </tr>\n",
       "    <tr>\n",
       "      <th>2</th>\n",
       "      <td>Paramount Pictures</td>\n",
       "      <td>USA</td>\n",
       "      <td>Tony Scott</td>\n",
       "      <td>Action</td>\n",
       "      <td>179800601</td>\n",
       "      <td>Top Gun</td>\n",
       "      <td>PG</td>\n",
       "      <td>110</td>\n",
       "      <td>6.9</td>\n",
       "      <td>Tom Cruise</td>\n",
       "      <td>236909</td>\n",
       "      <td>Jim Cash</td>\n",
       "    </tr>\n",
       "    <tr>\n",
       "      <th>3</th>\n",
       "      <td>Twentieth Century Fox Film Corporation</td>\n",
       "      <td>USA</td>\n",
       "      <td>James Cameron</td>\n",
       "      <td>Action</td>\n",
       "      <td>85160248</td>\n",
       "      <td>Aliens</td>\n",
       "      <td>R</td>\n",
       "      <td>137</td>\n",
       "      <td>8.4</td>\n",
       "      <td>Sigourney Weaver</td>\n",
       "      <td>540152</td>\n",
       "      <td>James Cameron</td>\n",
       "    </tr>\n",
       "    <tr>\n",
       "      <th>4</th>\n",
       "      <td>Walt Disney Pictures</td>\n",
       "      <td>USA</td>\n",
       "      <td>Randal Kleiser</td>\n",
       "      <td>Adventure</td>\n",
       "      <td>18564613</td>\n",
       "      <td>Flight of the Navigator</td>\n",
       "      <td>PG</td>\n",
       "      <td>90</td>\n",
       "      <td>6.9</td>\n",
       "      <td>Joey Cramer</td>\n",
       "      <td>36636</td>\n",
       "      <td>Mark H. Baker</td>\n",
       "    </tr>\n",
       "  </tbody>\n",
       "</table>\n",
       "</div>"
      ],
      "text/plain": [
       "                                  company country        director      genre  \\\n",
       "0           Columbia Pictures Corporation     USA      Rob Reiner  Adventure   \n",
       "1                      Paramount Pictures     USA     John Hughes     Comedy   \n",
       "2                      Paramount Pictures     USA      Tony Scott     Action   \n",
       "3  Twentieth Century Fox Film Corporation     USA   James Cameron     Action   \n",
       "4                    Walt Disney Pictures     USA  Randal Kleiser  Adventure   \n",
       "\n",
       "       gross                      name rating  runtime  score  \\\n",
       "0   52287414               Stand by Me      R       89    8.1   \n",
       "1   70136369  Ferris Bueller's Day Off  PG-13      103    7.8   \n",
       "2  179800601                   Top Gun     PG      110    6.9   \n",
       "3   85160248                    Aliens      R      137    8.4   \n",
       "4   18564613   Flight of the Navigator     PG       90    6.9   \n",
       "\n",
       "                star   votes         writer  \n",
       "0        Wil Wheaton  299174   Stephen King  \n",
       "1  Matthew Broderick  264740    John Hughes  \n",
       "2         Tom Cruise  236909       Jim Cash  \n",
       "3   Sigourney Weaver  540152  James Cameron  \n",
       "4        Joey Cramer   36636  Mark H. Baker  "
      ]
     },
     "execution_count": 2,
     "metadata": {},
     "output_type": "execute_result"
    }
   ],
   "source": [
    "import pandas as pd\n",
    "df=pd.read_csv('./data/movies.csv')\n",
    "#print list(df.columns.values)\n",
    "#print df.info() # basic information\n",
    "#print data.describe() # basic statistics\n",
    "df.head()\n",
    "\n"
   ]
  },
  {
   "cell_type": "markdown",
   "metadata": {},
   "source": [
    "## Missing value:\n",
    "\n",
    "Replace all nan values as mean values."
   ]
  },
  {
   "cell_type": "code",
   "execution_count": 3,
   "metadata": {},
   "outputs": [
    {
     "name": "stdout",
     "output_type": "stream",
     "text": [
      "(6820,)\n",
      "(6820, 11)\n"
     ]
    },
    {
     "data": {
      "text/html": [
       "<div>\n",
       "<style>\n",
       "    .dataframe thead tr:only-child th {\n",
       "        text-align: right;\n",
       "    }\n",
       "\n",
       "    .dataframe thead th {\n",
       "        text-align: left;\n",
       "    }\n",
       "\n",
       "    .dataframe tbody tr th {\n",
       "        vertical-align: top;\n",
       "    }\n",
       "</style>\n",
       "<table border=\"1\" class=\"dataframe\">\n",
       "  <thead>\n",
       "    <tr style=\"text-align: right;\">\n",
       "      <th></th>\n",
       "      <th>company</th>\n",
       "      <th>country</th>\n",
       "      <th>director</th>\n",
       "      <th>genre</th>\n",
       "      <th>gross</th>\n",
       "      <th>name</th>\n",
       "      <th>rating</th>\n",
       "      <th>runtime</th>\n",
       "      <th>score</th>\n",
       "      <th>star</th>\n",
       "      <th>votes</th>\n",
       "      <th>writer</th>\n",
       "    </tr>\n",
       "  </thead>\n",
       "  <tbody>\n",
       "    <tr>\n",
       "      <th>0</th>\n",
       "      <td>665</td>\n",
       "      <td>54</td>\n",
       "      <td>2192</td>\n",
       "      <td>1</td>\n",
       "      <td>52287414</td>\n",
       "      <td>4661</td>\n",
       "      <td>8</td>\n",
       "      <td>89</td>\n",
       "      <td>8.1</td>\n",
       "      <td>2454</td>\n",
       "      <td>299174</td>\n",
       "      <td>3716</td>\n",
       "    </tr>\n",
       "    <tr>\n",
       "      <th>1</th>\n",
       "      <td>1680</td>\n",
       "      <td>54</td>\n",
       "      <td>1296</td>\n",
       "      <td>4</td>\n",
       "      <td>70136369</td>\n",
       "      <td>1821</td>\n",
       "      <td>7</td>\n",
       "      <td>103</td>\n",
       "      <td>7.8</td>\n",
       "      <td>1605</td>\n",
       "      <td>264740</td>\n",
       "      <td>1970</td>\n",
       "    </tr>\n",
       "    <tr>\n",
       "      <th>2</th>\n",
       "      <td>1680</td>\n",
       "      <td>54</td>\n",
       "      <td>2645</td>\n",
       "      <td>0</td>\n",
       "      <td>179800601</td>\n",
       "      <td>6203</td>\n",
       "      <td>6</td>\n",
       "      <td>110</td>\n",
       "      <td>6.9</td>\n",
       "      <td>2345</td>\n",
       "      <td>236909</td>\n",
       "      <td>1852</td>\n",
       "    </tr>\n",
       "    <tr>\n",
       "      <th>3</th>\n",
       "      <td>2062</td>\n",
       "      <td>54</td>\n",
       "      <td>1066</td>\n",
       "      <td>0</td>\n",
       "      <td>85160248</td>\n",
       "      <td>295</td>\n",
       "      <td>8</td>\n",
       "      <td>137</td>\n",
       "      <td>8.4</td>\n",
       "      <td>2192</td>\n",
       "      <td>540152</td>\n",
       "      <td>1629</td>\n",
       "    </tr>\n",
       "    <tr>\n",
       "      <th>4</th>\n",
       "      <td>2122</td>\n",
       "      <td>54</td>\n",
       "      <td>2123</td>\n",
       "      <td>1</td>\n",
       "      <td>18564613</td>\n",
       "      <td>1872</td>\n",
       "      <td>6</td>\n",
       "      <td>90</td>\n",
       "      <td>6.9</td>\n",
       "      <td>1139</td>\n",
       "      <td>36636</td>\n",
       "      <td>2549</td>\n",
       "    </tr>\n",
       "  </tbody>\n",
       "</table>\n",
       "</div>"
      ],
      "text/plain": [
       "   company  country  director  genre      gross  name  rating  runtime  score  \\\n",
       "0      665       54      2192      1   52287414  4661       8       89    8.1   \n",
       "1     1680       54      1296      4   70136369  1821       7      103    7.8   \n",
       "2     1680       54      2645      0  179800601  6203       6      110    6.9   \n",
       "3     2062       54      1066      0   85160248   295       8      137    8.4   \n",
       "4     2122       54      2123      1   18564613  1872       6       90    6.9   \n",
       "\n",
       "   star   votes  writer  \n",
       "0  2454  299174    3716  \n",
       "1  1605  264740    1970  \n",
       "2  2345  236909    1852  \n",
       "3  2192  540152    1629  \n",
       "4  1139   36636    2549  "
      ]
     },
     "execution_count": 3,
     "metadata": {},
     "output_type": "execute_result"
    }
   ],
   "source": [
    "from sklearn import preprocessing\n",
    "from sklearn import utils\n",
    "#numric the strings(replace unique string with a unique number)\n",
    "le = preprocessing.LabelEncoder()\n",
    "df['company'] = le.fit_transform(df['company'])\n",
    "df['country'] = le.fit_transform(df['country'])\n",
    "df['director'] = le.fit_transform(df['director'])\n",
    "df['name'] = le.fit_transform(df['name'])\n",
    "df['rating'] = le.fit_transform(df['rating'])\n",
    "df['star'] = le.fit_transform(df['star'])\n",
    "df['writer'] = le.fit_transform(df['writer'])\n",
    "df['genre'] = le.fit_transform(df['genre'])\n",
    "\n",
    "y=df.iloc[:,4].fillna(df.mean()).as_matrix()\n",
    "x=df.iloc[:, 0:].fillna(df.mean()).as_matrix()\n",
    "x = np.delete(x, 4, axis = 1)\n",
    "y = y.astype('int')\n",
    "\n",
    "print y.shape\n",
    "print x.shape\n",
    "\n",
    "x = preprocessing.StandardScaler().fit_transform(x)\n",
    "df.head()"
   ]
  },
  {
   "cell_type": "markdown",
   "metadata": {},
   "source": []
  },
  {
   "cell_type": "code",
   "execution_count": 4,
   "metadata": {},
   "outputs": [
    {
     "data": {
      "image/png": "[encoded data removed]",
      "text/plain": [
       "<matplotlib.figure.Figure at 0x109772610>"
      ]
     },
     "metadata": {},
     "output_type": "display_data"
    }
   ],
   "source": [
    "from scipy.stats import probplot\n",
    "def qq_plot(x):\n",
    "    probplot(x, dist='norm', plot=plt)\n",
    "xgross=df['gross']\n",
    "qq_plot(xgross)"
   ]
  },
  {
   "cell_type": "code",
   "execution_count": 5,
   "metadata": {
    "collapsed": true
   },
   "outputs": [],
   "source": [
    "from scipy.stats.kde import gaussian_kde\n",
    "def kde_plot(x):   \n",
    "    kde = gaussian_kde(x)\n",
    "    positions = np.linspace(x.min(), x.max())\n",
    "    smoothed = kde(positions)\n",
    "    plt.plot(positions, smoothed)\n",
    "    \n",
    "def kde_values(x):   \n",
    "    kde = gaussian_kde(x)\n",
    "    positions = np.linspace(x.min(), x.max())\n",
    "    smoothed = kde(positions)\n",
    "    return positions, smoothed"
   ]
  },
  {
   "cell_type": "code",
   "execution_count": 6,
   "metadata": {},
   "outputs": [
    {
     "data": {
      "image/png": "[encoded data removed]",
      "text/plain": [
       "<matplotlib.figure.Figure at 0x10fc0db90>"
      ]
     },
     "metadata": {},
     "output_type": "display_data"
    }
   ],
   "source": [
    "xgross=df['gross']\n",
    "xgross=xgross.dropna()\n",
    "kde_plot(xgross)\n",
    "plt.title(\"Distribution of all gross data\")\n",
    "plt.show()"
   ]
  },
  {
   "cell_type": "code",
   "execution_count": 7,
   "metadata": {},
   "outputs": [
    {
     "name": "stdout",
     "output_type": "stream",
     "text": [
      "291948708.33 6024.4\n"
     ]
    }
   ],
   "source": [
    "print xgross.quantile(0.99), xgross.quantile(0.01)"
   ]
  },
  {
   "cell_type": "code",
   "execution_count": 8,
   "metadata": {},
   "outputs": [
    {
     "data": {
      "text/plain": [
       "<function matplotlib.pyplot.show>"
      ]
     },
     "execution_count": 8,
     "metadata": {},
     "output_type": "execute_result"
    },
    {
     "data": {
      "image/png": "[encoded data removed]",
      "text/plain": [
       "<matplotlib.figure.Figure at 0x11801bbd0>"
      ]
     },
     "metadata": {},
     "output_type": "display_data"
    }
   ],
   "source": [
    "kde_plot(xgross[xgross<291948708.33])\n",
    "plt.title(\"Distribution of gross which is less than 291948708.33\")\n",
    "plt.show"
   ]
  },
  {
   "cell_type": "code",
   "execution_count": 9,
   "metadata": {},
   "outputs": [
    {
     "name": "stdout",
     "output_type": "stream",
     "text": [
      "regressif_rate for RandomForestRegressor : 1.129032 \n",
      "[ 0.03238275  0.02169795  0.03390038  0.03691619  0.03681135  0.11519706\n",
      "  0.05173778  0.0490939   0.02937977  0.56250745  0.03037543]\n"
     ]
    }
   ],
   "source": [
    "#use Random Forest Regressor as the algrithm\n",
    "from sklearn.ensemble import RandomForestRegressor\n",
    "# Logistic Classification\n",
    "regressify = RandomForestRegressor() # You can adjust some paraments here.\n",
    "regressify.fit(x,y)\n",
    "\n",
    "y_pred = regressify.predict(x)\n",
    "regressif_rate = np.mean(y_pred.ravel() == y.ravel()) * 100\n",
    "print(\"regressif_rate for %s : %f \" % ('RandomForestRegressor', regressif_rate))\n",
    "print regressify.feature_importances_\n"
   ]
  },
  {
   "cell_type": "code",
   "execution_count": 10,
   "metadata": {},
   "outputs": [
    {
     "data": {
      "image/png": "[encoded data removed]",
      "text/plain": [
       "<matplotlib.figure.Figure at 0x118716050>"
      ]
     },
     "metadata": {},
     "output_type": "display_data"
    }
   ],
   "source": [
    "#form a chart for the best feature\n",
    "features=np.array([ \"company\",\n",
    "                    \"country\",\n",
    "                    \"director\",\n",
    "                    \"genre\",\n",
    "                    \n",
    "                    \"name\",\n",
    "                    \"rating\",\n",
    "                    \"runtime\",\n",
    "                    \"score\",\n",
    "                    \"star\",\n",
    "                    \"votes\",\n",
    "                    \"writer\"\n",
    "                    ])\n",
    "\n",
    "new = [i * 10000 for i in regressify.feature_importances_]\n",
    "\n",
    "#print new\n",
    "ind=sorted(range(len(new)),reverse=False,key=lambda k: new[k])\n",
    "features=features[ind]\n",
    "\n",
    "new = sorted(new,reverse=False)\n",
    "ind=np.array(range(11))\n",
    "#print ind\n",
    "plt.rcParams['figure.figsize'] = (9,7)\n",
    "plt.barh(bottom=ind,height=0.5,width=new,color='r')\n",
    "plt.yticks(ind+0.25,features)\n",
    "plt.xlabel('Weights')\n",
    "plt.ylabel('Features')\n",
    "plt.title('Feature Importances')\n",
    "#plt.subplots_adjust(left=0.2)\n",
    "plt.tight_layout()\n",
    "#plt.savefig('feature_importances.png', format='png', dpi=300)\n",
    "plt.show()"
   ]
  },
  {
   "cell_type": "code",
   "execution_count": 11,
   "metadata": {},
   "outputs": [
    {
     "data": {
      "text/plain": [
       "<matplotlib.axes._subplots.AxesSubplot at 0x11833e190>"
      ]
     },
     "execution_count": 11,
     "metadata": {},
     "output_type": "execute_result"
    },
    {
     "data": {
      "image/png": "[encoded data removed]",
      "text/plain": [
       "<matplotlib.figure.Figure at 0x1122d3950>"
      ]
     },
     "metadata": {},
     "output_type": "display_data"
    }
   ],
   "source": [
    "# A diagonal correlation matrix using seaborn\n",
    "import seaborn as sns\n",
    "import matplotlib.pyplot as plt\n",
    "\n",
    "sns.set(style=\"white\")\n",
    "\n",
    "# Generate a large random dataset\n",
    "#rs = np.random.RandomState(33)\n",
    "#d = pd.DataFrame(data=rs.normal(size=(100, 26)),\n",
    "#                 columns=list(ascii_letters[26:]))\n",
    "\n",
    "# Compute the correlation matrix\n",
    "corr = df.corr()\n",
    "\n",
    "# Generate a mask for the upper triangle\n",
    "mask = np.zeros_like(corr, dtype=np.bool)\n",
    "mask[np.triu_indices_from(mask)] = True\n",
    "\n",
    "# Set up the matplotlib figure\n",
    "f, ax = plt.subplots(figsize=(11, 9))\n",
    "\n",
    "# Generate a custom diverging colormap\n",
    "cmap = sns.diverging_palette(220, 10, as_cmap=True)\n",
    "\n",
    "# Draw the heatmap with the mask and correct aspect ratio\n",
    "sns.heatmap(corr, mask=mask, cmap=cmap, vmax=.3, center=0,\n",
    "            square=True, linewidths=.5, cbar_kws={\"shrink\": .5})"
   ]
  },
  {
   "cell_type": "code",
   "execution_count": 12,
   "metadata": {},
   "outputs": [
    {
     "data": {
      "text/plain": [
       "<matplotlib.axes._subplots.AxesSubplot at 0x119049990>"
      ]
     },
     "execution_count": 12,
     "metadata": {},
     "output_type": "execute_result"
    },
    {
     "data": {
      "image/png": "[encoded data removed]",
      "text/plain": [
       "<matplotlib.figure.Figure at 0x1182b0650>"
      ]
     },
     "metadata": {},
     "output_type": "display_data"
    }
   ],
   "source": [
    "df2 = pd.read_csv('./data/movies.csv')\n",
    "df2 = df2.cumsum()\n",
    "#plt.figure(); df.plot()\n",
    "df2.plot(x = 'votes', y = 'gross')"
   ]
  },
  {
   "cell_type": "code",
   "execution_count": 26,
   "metadata": {},
   "outputs": [
    {
     "name": "stdout",
     "output_type": "stream",
     "text": [
      "High five! You successfully sent some data to your account on plotly. View your plot in your browser at https://plot.ly/~zjy0955/0 or inside your plot.ly account where it is named 'pandas-box-plot'\n"
     ]
    }
   ],
   "source": [
    "import string\n",
    "import plotly\n",
    "import plotly.plotly as py\n",
    "import plotly.graph_objs as go\n",
    "plotly.tools.set_credentials_file(username='zjy0955', api_key='0NuYXfVAZFO4oArxAX7g')\n",
    "N = 20\n",
    "y_vals = {}\n",
    "for letter in list(string.ascii_uppercase):\n",
    "    y_vals[letter] = np.random.randn(N)+(3*np.random.randn())\n",
    "    #y_vals[letter] = np.random.randn()\n",
    "data = []\n",
    "\n",
    "for col in df.columns:\n",
    "    if (col != 'gross' and col != 'votes'):\n",
    "        data.append(  go.Box( y=df[col], name=col, showlegend=False ) )\n",
    "\n",
    "#data.append( go.Scatter( x = df.columns, y = df.mean(), mode='lines', name='mean' ) )\n",
    "data.append( go.Scatter( x = df.columns) )\n",
    "# IPython notebook\n",
    "# py.iplot(data, filename='pandas-box-plot')\n",
    "\n",
    "url = py.plot(data, filename='pandas-box-plot')"
   ]
  },
  {
   "cell_type": "markdown",
   "metadata": {},
   "source": [
    "# 5 algorithms"
   ]
  },
  {
   "cell_type": "code",
   "execution_count": 14,
   "metadata": {},
   "outputs": [
    {
     "name": "stdout",
     "output_type": "stream",
     "text": [
      "(6820,)\n",
      "(6820, 11)\n",
      "Fitting 2 folds for each of 3 candidates, totalling 6 fits\n"
     ]
    },
    {
     "name": "stderr",
     "output_type": "stream",
     "text": [
      "[Parallel(n_jobs=1)]: Done   6 out of   6 | elapsed:    4.8s finished\n"
     ]
    },
    {
     "name": "stdout",
     "output_type": "stream",
     "text": [
      "{'criterion': 'friedman_mse'}\n",
      "0.892821008837\n",
      "Fitting 2 folds for each of 4 candidates, totalling 8 fits\n"
     ]
    },
    {
     "name": "stderr",
     "output_type": "stream",
     "text": [
      "[Parallel(n_jobs=1)]: Done   8 out of   8 | elapsed:    2.6s finished\n"
     ]
    },
    {
     "name": "stdout",
     "output_type": "stream",
     "text": [
      "{'n_estimators': 20, 'max_depth': 3}\n",
      "0.0392784834996\n",
      "Fitting 2 folds for each of 4 candidates, totalling 8 fits\n"
     ]
    },
    {
     "name": "stderr",
     "output_type": "stream",
     "text": [
      "[Parallel(n_jobs=1)]: Done   8 out of   8 | elapsed:    1.5s finished\n"
     ]
    },
    {
     "name": "stdout",
     "output_type": "stream",
     "text": [
      "{'n_estimators': 50, 'max_depth': 2}\n",
      "0.0370631938892\n",
      "Fitting 2 folds for each of 6 candidates, totalling 12 fits\n"
     ]
    },
    {
     "name": "stderr",
     "output_type": "stream",
     "text": [
      "[Parallel(n_jobs=1)]: Done  12 out of  12 | elapsed:    5.8s finished\n"
     ]
    },
    {
     "name": "stdout",
     "output_type": "stream",
     "text": [
      "{'weights': 'uniform', 'algorithm': 'ball_tree'}\n",
      "0.155206988368\n",
      "Fitting 2 folds for each of 6 candidates, totalling 12 fits\n",
      "{'n_estimators': 10, 'learning_rate': 0.5}\n",
      "0.0407967560472\n"
     ]
    },
    {
     "name": "stderr",
     "output_type": "stream",
     "text": [
      "[Parallel(n_jobs=1)]: Done  12 out of  12 | elapsed:    1.8s finished\n"
     ]
    }
   ],
   "source": [
    "\n",
    "y=df.iloc[:,0].fillna(df.mean()).as_matrix()\n",
    "x=df.iloc[:,1:].fillna(df.mean()).as_matrix()\n",
    "print y.shape\n",
    "print x.shape\n",
    "\n",
    "from sklearn import preprocessing\n",
    "x = preprocessing.StandardScaler().fit_transform(x)\n",
    "\n",
    "from sklearn.model_selection import GridSearchCV\n",
    "\n",
    "from sklearn.tree import DecisionTreeRegressor\n",
    "model = DecisionTreeRegressor()\n",
    "tuned_parameters = {'criterion':[\"mse\",\"friedman_mse\", \"mae\"]}\n",
    "model = GridSearchCV(model,tuned_parameters,cv=2,verbose=1)\n",
    "model.fit(x,y)\n",
    "print model.best_params_\n",
    "print abs(model.best_score_)\n",
    "\n",
    "from sklearn.ensemble import RandomForestRegressor\n",
    "model = RandomForestRegressor()\n",
    "tuned_parameters = {'n_estimators':[10,20], 'max_depth':[None, 3]}\n",
    "model = GridSearchCV(model,tuned_parameters,cv=2,verbose=1)\n",
    "model.fit(x,y)\n",
    "print model.best_params_\n",
    "print model.best_score_ \n",
    "\n",
    "from sklearn.ensemble import GradientBoostingRegressor\n",
    "model = GradientBoostingRegressor() \n",
    "tuned_parameters = {'n_estimators':[100,50], 'max_depth':[2, 3]}\n",
    "model.fit(x,y)\n",
    "model = GridSearchCV(model,tuned_parameters,cv=2,verbose=1)\n",
    "model.fit(x,y)\n",
    "print model.best_params_\n",
    "print model.best_score_ \n",
    "\n",
    "from sklearn.neighbors import KNeighborsRegressor\n",
    "model = KNeighborsRegressor() \n",
    "tuned_parameters = {'weights':['uniform', 'distance'], 'algorithm':['ball_tree', 'kd_tree', 'brute']}\n",
    "model.fit(x,y)\n",
    "model = GridSearchCV(model,tuned_parameters,cv=2,verbose=1)\n",
    "model.fit(x,y)\n",
    "print model.best_params_\n",
    "print abs(model.best_score_)\n",
    "\n",
    "from sklearn.ensemble import AdaBoostRegressor\n",
    "model = AdaBoostRegressor() \n",
    "tuned_parameters = {'n_estimators':[10,50,100], 'learning_rate':[0.5,1.0]}\n",
    "model.fit(x,y)\n",
    "model = GridSearchCV(model,tuned_parameters,cv=2,verbose=1)\n",
    "model.fit(x,y)\n",
    "print model.best_params_\n",
    "print abs(model.best_score_)"
   ]
  },
  {
   "cell_type": "code",
   "execution_count": 15,
   "metadata": {},
   "outputs": [
    {
     "name": "stdout",
     "output_type": "stream",
     "text": [
      "Fitting 5 folds for each of 3 candidates, totalling 15 fits\n"
     ]
    },
    {
     "name": "stderr",
     "output_type": "stream",
     "text": [
      "[Parallel(n_jobs=1)]: Done  15 out of  15 | elapsed:   26.5s finished\n"
     ]
    },
    {
     "name": "stdout",
     "output_type": "stream",
     "text": [
      "{'criterion': 'mse'}\n",
      "-0.882357608045\n",
      "Fitting 5 folds for each of 4 candidates, totalling 20 fits\n"
     ]
    },
    {
     "name": "stderr",
     "output_type": "stream",
     "text": [
      "[Parallel(n_jobs=1)]: Done  20 out of  20 | elapsed:    9.5s finished\n"
     ]
    },
    {
     "name": "stdout",
     "output_type": "stream",
     "text": [
      "{'n_estimators': 20, 'max_depth': 3}\n",
      "0.0517854548646\n",
      "Fitting 5 folds for each of 4 candidates, totalling 20 fits\n"
     ]
    },
    {
     "name": "stderr",
     "output_type": "stream",
     "text": [
      "[Parallel(n_jobs=1)]: Done  20 out of  20 | elapsed:    7.1s finished\n"
     ]
    },
    {
     "name": "stdout",
     "output_type": "stream",
     "text": [
      "{'n_estimators': 50, 'max_depth': 2}\n",
      "0.0524296643056\n",
      "Fitting 5 folds for each of 6 candidates, totalling 30 fits\n"
     ]
    },
    {
     "name": "stderr",
     "output_type": "stream",
     "text": [
      "[Parallel(n_jobs=1)]: Done  30 out of  30 | elapsed:   26.6s finished\n"
     ]
    },
    {
     "name": "stdout",
     "output_type": "stream",
     "text": [
      "{'weights': 'distance', 'algorithm': 'ball_tree'}\n",
      "-0.139150282987\n",
      "Fitting 5 folds for each of 6 candidates, totalling 30 fits\n",
      "{'n_estimators': 10, 'learning_rate': 0.5}\n",
      "0.0496851357218\n"
     ]
    },
    {
     "name": "stderr",
     "output_type": "stream",
     "text": [
      "[Parallel(n_jobs=1)]: Done  30 out of  30 | elapsed:    7.6s finished\n"
     ]
    }
   ],
   "source": [
    "#Grid Search\n",
    "from sklearn.model_selection import GridSearchCV\n",
    "from sklearn.tree import DecisionTreeRegressor\n",
    "from sklearn.ensemble import RandomForestRegressor\n",
    "from sklearn.ensemble import GradientBoostingRegressor\n",
    "from sklearn.neighbors import KNeighborsRegressor\n",
    "from sklearn.ensemble import AdaBoostRegressor\n",
    "\n",
    "models = [DecisionTreeRegressor(), \n",
    "          RandomForestRegressor(), \n",
    "          GradientBoostingRegressor(),\n",
    "          KNeighborsRegressor(),\n",
    "          AdaBoostRegressor()\n",
    "          ]\n",
    "tuned_parameters = [{'criterion':[\"mse\",\"friedman_mse\", \"mae\"]},  # parameters for decision tree\n",
    "                    {'n_estimators':[10,20], 'max_depth':[None, 3]}, # parameters for random forest\n",
    "                   {'n_estimators':[100,50], 'max_depth':[2, 3]}, # parameters for gradient boosting\n",
    "                    {'weights':['uniform', 'distance'], 'algorithm':['ball_tree', 'kd_tree', 'brute']},\n",
    "                   {'n_estimators':[10,50,100], 'learning_rate':[0.5,1.0]}]\n",
    "\n",
    "# Higher score means a better model\n",
    "for model, tuned_parameter in zip(models, tuned_parameters):\n",
    "    regressify = GridSearchCV(model,tuned_parameter,cv=5,verbose=1)\n",
    "    regressify.fit(x,y)\n",
    "    print regressify.best_params_\n",
    "    print regressify.best_score_"
   ]
  },
  {
   "cell_type": "markdown",
   "metadata": {},
   "source": [
    "# r2 score"
   ]
  },
  {
   "cell_type": "code",
   "execution_count": 16,
   "metadata": {},
   "outputs": [
    {
     "name": "stdout",
     "output_type": "stream",
     "text": [
      "0.816189769417\n"
     ]
    }
   ],
   "source": [
    "from sklearn.metrics import r2_score\n",
    "\n",
    "#lb = preprocessing.LabelBinarizer()\n",
    "#lb.fit(yhat)\n",
    "\n",
    "classify = RandomForestRegressor(criterion = 'mse')\n",
    "classify.fit(x,y)\n",
    "yhat=classify.predict(x)\n",
    "#print y\n",
    "#print yhat\n",
    "print r2_score(y,yhat) \n",
    "yroc = y\n",
    "#make the target to binary \n",
    "average = 0\n",
    "total = 0\n",
    "for i in range(len(yroc)):\n",
    "    total += yroc[i]\n",
    "average = total/len(yroc)\n",
    "#print average\n",
    "\n",
    "for i in range(len(yroc)):\n",
    "    if(yroc[i] >= average):\n",
    "        yroc[i] = 1\n",
    "    elif(yroc[i] < average):\n",
    "        yroc[i] = 0\n",
    "        \n",
    "#print y"
   ]
  },
  {
   "cell_type": "markdown",
   "metadata": {},
   "source": [
    "# ROC Area"
   ]
  },
  {
   "cell_type": "code",
   "execution_count": 17,
   "metadata": {},
   "outputs": [
    {
     "data": {
      "image/png": "[encoded data removed]",
      "text/plain": [
       "<matplotlib.figure.Figure at 0x1181d5e90>"
      ]
     },
     "metadata": {},
     "output_type": "display_data"
    }
   ],
   "source": [
    "from sklearn.metrics import roc_curve, auc\n",
    "fpr, tpr, thresholds = roc_curve(yroc, yhat)\n",
    "roc_auc = auc(fpr, tpr)\n",
    "lw = 2\n",
    "plt.figure()\n",
    "plt.plot(fpr, tpr, color='darkorange', lw=1, label='ROC curve (area = %0.2f)' % roc_auc)\n",
    "plt.plot([0, 1], [0, 1], color='navy', lw=lw, linestyle='--')\n",
    "plt.xlim([0.0, 1.0])\n",
    "plt.ylim([0.0, 1.05])\n",
    "plt.xlabel('False Positive Rate')\n",
    "plt.ylabel('True Positive Rate')\n",
    "plt.title('Receiver operating characteristic')\n",
    "plt.legend(loc=\"lower right\")\n",
    "plt.show()"
   ]
  },
  {
   "cell_type": "code",
   "execution_count": null,
   "metadata": {
    "collapsed": true
   },
   "outputs": [],
   "source": []
  },
  {
   "cell_type": "code",
   "execution_count": null,
   "metadata": {
    "collapsed": true
   },
   "outputs": [],
   "source": []
  }
 ],
 "metadata": {
  "anaconda-cloud": {},
  "kernelspec": {
   "display_name": "Python 2",
   "language": "python",
   "name": "python2"
  },
  "language_info": {
   "codemirror_mode": {
    "name": "ipython",
    "version": 2
   },
   "file_extension": ".py",
   "mimetype": "text/x-python",
   "name": "python",
   "nbconvert_exporter": "python",
   "pygments_lexer": "ipython2",
   "version": "2.7.13"
  }
 },
 "nbformat": 4,
 "nbformat_minor": 1
}
